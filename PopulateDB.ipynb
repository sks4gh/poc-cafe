{
 "cells": [
  {
   "cell_type": "code",
   "execution_count": null,
   "metadata": {},
   "outputs": [],
   "source": [
    "from pymongo import MongoClient\n",
    "\n",
    "client = MongoClient(\"mongodb://localhost:27017/\")\n",
    "db = client[\"cafe_db\"]\n",
    "\n",
    "# Insert Café Info\n",
    "db.cafe_info.insert_one({\n",
    "    \"location\": \"123 Coffee Street, City, Country\",\n",
    "    \"hours\": \"8 AM - 8 PM\",\n",
    "    \"contact\": \"+1 234 567 890\",\n",
    "    \"events\": [\"Live Music on Fridays\", \"Barista Workshop on Sundays\"],\n",
    "    \"history\": \"Founded in 1990, our café values sustainability and community.\"\n",
    "})\n",
    "\n",
    "# Insert Sample Menu\n",
    "db.menu.insert_many([\n",
    "    {\"item\": \"Espresso\", \"price\": 2.5, \"allergens\": \"None\"},\n",
    "    {\"item\": \"Cappuccino\", \"price\": 3.5, \"allergens\": \"Dairy\"},\n",
    "    {\"item\": \"Avocado Toast\", \"price\": 5.0, \"allergens\": \"Gluten\"},\n",
    "])\n"
   ]
  }
 ],
 "metadata": {
  "kernelspec": {
   "display_name": "Python 3",
   "language": "python",
   "name": "python3"
  },
  "language_info": {
   "name": "python",
   "version": "3.9.2"
  }
 },
 "nbformat": 4,
 "nbformat_minor": 2
}
